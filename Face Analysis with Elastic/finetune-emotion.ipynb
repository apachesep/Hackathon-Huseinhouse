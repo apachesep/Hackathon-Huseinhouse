{
 "cells": [
  {
   "cell_type": "code",
   "execution_count": 1,
   "metadata": {},
   "outputs": [
    {
     "name": "stderr",
     "output_type": "stream",
     "text": [
      "/usr/local/lib/python3.5/dist-packages/h5py/__init__.py:36: FutureWarning: Conversion of the second argument of issubdtype from `float` to `np.floating` is deprecated. In future, it will be treated as `np.float64 == np.dtype(float).type`.\n",
      "  from ._conv import register_converters as _register_converters\n"
     ]
    },
    {
     "data": {
      "text/plain": [
       "'1.5.0'"
      ]
     },
     "execution_count": 1,
     "metadata": {},
     "output_type": "execute_result"
    }
   ],
   "source": [
    "import tensorflow as tf\n",
    "import tensorflow.contrib.slim as slim\n",
    "import numpy as np\n",
    "import os\n",
    "from scipy.misc import imread,imresize\n",
    "from random import shuffle\n",
    "from sklearn.preprocessing import LabelEncoder\n",
    "import matplotlib.pyplot as plt\n",
    "from tqdm import tqdm\n",
    "import mobilenet_v2\n",
    "import warnings\n",
    "warnings.filterwarnings('ignore')\n",
    "tf.__version__"
   ]
  },
  {
   "cell_type": "code",
   "execution_count": 2,
   "metadata": {},
   "outputs": [],
   "source": [
    "checkpoint_name = 'mobilenet_v2_1.0_224'\n",
    "checkpoint = checkpoint_name + '.ckpt'"
   ]
  },
  {
   "cell_type": "code",
   "execution_count": 3,
   "metadata": {},
   "outputs": [],
   "source": [
    "batch_size = 32\n",
    "learning_rate = 1e-3\n",
    "data_location = 'Crop/'"
   ]
  },
  {
   "cell_type": "code",
   "execution_count": 4,
   "metadata": {},
   "outputs": [],
   "source": [
    "img_lists = os.listdir(data_location)\n",
    "shuffle(img_lists)\n",
    "img_labels = [i.split('--')[0] for i in img_lists]\n",
    "img_Y = LabelEncoder().fit_transform(img_labels)\n",
    "img_lists = [data_location+i for i in img_lists]\n",
    "label_emotions = ['anger','contempt','disgust','fear','happy','sadness','surprise']"
   ]
  },
  {
   "cell_type": "code",
   "execution_count": 5,
   "metadata": {},
   "outputs": [
    {
     "name": "stdout",
     "output_type": "stream",
     "text": [
      "TRAIN: [11784 11785 11786 ... 35349 35350 35351] TEST: [    0     1     2 ... 11781 11782 11783]\n",
      "TRAIN: [    0     1     2 ... 35349 35350 35351] TEST: [11784 11785 11786 ... 23565 23566 23567]\n",
      "TRAIN: [    0     1     2 ... 23565 23566 23567] TEST: [23568 23569 23570 ... 35349 35350 35351]\n"
     ]
    }
   ],
   "source": [
    "from sklearn.model_selection import KFold\n",
    "kf = KFold(n_splits=3)\n",
    "for train_index, test_index in kf.split(img_lists):\n",
    "    print(\"TRAIN:\", train_index, \"TEST:\", test_index)"
   ]
  },
  {
   "cell_type": "code",
   "execution_count": 6,
   "metadata": {},
   "outputs": [
    {
     "name": "stdout",
     "output_type": "stream",
     "text": [
      "INFO:tensorflow:Restoring parameters from mobilenet_v2_1.0_224.ckpt\n"
     ]
    },
    {
     "data": {
      "text/plain": [
       "'huseinhouse/emotion-checkpoint-mobilenet.ckpt'"
      ]
     },
     "execution_count": 6,
     "metadata": {},
     "output_type": "execute_result"
    }
   ],
   "source": [
    "tf.reset_default_graph()\n",
    "sess = tf.InteractiveSession()\n",
    "X = tf.placeholder(tf.float32,[None,224,224,1])\n",
    "Y = tf.placeholder(tf.int32, [None])\n",
    "images = tf.image.grayscale_to_rgb(X)\n",
    "images = tf.map_fn(lambda image: tf.image.per_image_standardization(image), images)\n",
    "with tf.contrib.slim.arg_scope(mobilenet_v2.training_scope(is_training=True)):\n",
    "    logits, endpoints = mobilenet_v2.mobilenet(images,num_classes=len(label_emotions))\n",
    "emotion_cross_entropy = tf.nn.sparse_softmax_cross_entropy_with_logits(labels=Y, logits=logits)\n",
    "cost = tf.reduce_mean(emotion_cross_entropy)\n",
    "emotion_accuracy = tf.reduce_mean(tf.cast(tf.nn.in_top_k(logits, Y, 1), tf.float32))\n",
    "global_step = tf.Variable(0, name=\"global_step\", trainable=False)\n",
    "\n",
    "tf.summary.scalar(\"total_loss\", cost)\n",
    "tf.summary.scalar(\"emotion_accuracy\", emotion_accuracy)\n",
    "\n",
    "optimizer = tf.train.AdamOptimizer(learning_rate).minimize(cost,global_step=global_step)\n",
    "\n",
    "sess.run(tf.global_variables_initializer())\n",
    "var_lists = tf.get_collection(tf.GraphKeys.TRAINABLE_VARIABLES, scope = 'MobilenetV2')\n",
    "var_lists_without_logits = [i for i in var_lists if i.name.find('Conv2d_1c') < 0]\n",
    "saver = tf.train.Saver(var_list = var_lists_without_logits)\n",
    "saver.restore(sess, checkpoint)\n",
    "saver = tf.train.Saver(tf.global_variables())\n",
    "# test save\n",
    "saver.save(sess, \"huseinhouse/emotion-checkpoint-mobilenet.ckpt\")"
   ]
  },
  {
   "cell_type": "code",
   "execution_count": 7,
   "metadata": {},
   "outputs": [],
   "source": [
    "merged = tf.summary.merge_all()\n",
    "writer = tf.summary.FileWriter('./logs', sess.graph)"
   ]
  },
  {
   "cell_type": "markdown",
   "metadata": {},
   "source": [
    "Open new terminal in current directory,\n",
    "```bash\n",
    "tensorboard --logdir=./logs\n",
    "```"
   ]
  },
  {
   "cell_type": "code",
   "execution_count": 8,
   "metadata": {},
   "outputs": [
    {
     "name": "stdout",
     "output_type": "stream",
     "text": [
      "--------------- Start cross validation 0 ---------------\n",
      "INFO:tensorflow:Restoring parameters from huseinhouse/emotion-checkpoint-mobilenet.ckpt\n"
     ]
    },
    {
     "name": "stderr",
     "output_type": "stream",
     "text": [
      "train minibatch loop: 100%|██████████| 736/736 [06:15<00:00,  1.96it/s]\n",
      "test minibatch loop: 100%|██████████| 368/368 [01:11<00:00,  5.11it/s]\n"
     ]
    },
    {
     "name": "stdout",
     "output_type": "stream",
     "text": [
      "epoch: 0, pass acc: 0.000000, current acc: 0.777938\n"
     ]
    },
    {
     "name": "stderr",
     "output_type": "stream",
     "text": [
      "\r",
      "train minibatch loop:   0%|          | 0/736 [00:00<?, ?it/s]"
     ]
    },
    {
     "name": "stdout",
     "output_type": "stream",
     "text": [
      "epoch: 0, training loss: 0.834706, training acc: 0.705206, valid loss: 0.624796, valid acc: 0.777938\n",
      "\n"
     ]
    },
    {
     "name": "stderr",
     "output_type": "stream",
     "text": [
      "train minibatch loop: 100%|██████████| 736/736 [06:14<00:00,  1.96it/s]\n",
      "test minibatch loop: 100%|██████████| 368/368 [01:11<00:00,  5.12it/s]\n"
     ]
    },
    {
     "name": "stdout",
     "output_type": "stream",
     "text": [
      "epoch: 1, pass acc: 0.777938, current acc: 0.817001\n"
     ]
    },
    {
     "name": "stderr",
     "output_type": "stream",
     "text": [
      "\r",
      "train minibatch loop:   0%|          | 0/736 [00:00<?, ?it/s]"
     ]
    },
    {
     "name": "stdout",
     "output_type": "stream",
     "text": [
      "epoch: 1, training loss: 0.500409, training acc: 0.820228, valid loss: 0.519810, valid acc: 0.817001\n",
      "\n"
     ]
    },
    {
     "name": "stderr",
     "output_type": "stream",
     "text": [
      "train minibatch loop: 100%|██████████| 736/736 [06:14<00:00,  1.96it/s]\n",
      "test minibatch loop: 100%|██████████| 368/368 [01:11<00:00,  5.12it/s]\n"
     ]
    },
    {
     "name": "stdout",
     "output_type": "stream",
     "text": [
      "epoch: 2, pass acc: 0.817001, current acc: 0.825068\n"
     ]
    },
    {
     "name": "stderr",
     "output_type": "stream",
     "text": [
      "\r",
      "train minibatch loop:   0%|          | 0/736 [00:00<?, ?it/s]"
     ]
    },
    {
     "name": "stdout",
     "output_type": "stream",
     "text": [
      "epoch: 2, training loss: 0.398161, training acc: 0.853516, valid loss: 0.489039, valid acc: 0.825068\n",
      "\n"
     ]
    },
    {
     "name": "stderr",
     "output_type": "stream",
     "text": [
      "train minibatch loop: 100%|██████████| 736/736 [06:15<00:00,  1.96it/s]\n",
      "test minibatch loop: 100%|██████████| 368/368 [01:11<00:00,  5.14it/s]\n"
     ]
    },
    {
     "name": "stdout",
     "output_type": "stream",
     "text": [
      "epoch: 3, pass acc: 0.825068, current acc: 0.833984\n"
     ]
    },
    {
     "name": "stderr",
     "output_type": "stream",
     "text": [
      "\r",
      "train minibatch loop:   0%|          | 0/736 [00:00<?, ?it/s]"
     ]
    },
    {
     "name": "stdout",
     "output_type": "stream",
     "text": [
      "epoch: 3, training loss: 0.333004, training acc: 0.877590, valid loss: 0.486169, valid acc: 0.833984\n",
      "\n"
     ]
    },
    {
     "name": "stderr",
     "output_type": "stream",
     "text": [
      "train minibatch loop: 100%|██████████| 736/736 [06:14<00:00,  1.96it/s]\n",
      "test minibatch loop: 100%|██████████| 368/368 [01:11<00:00,  5.13it/s]\n"
     ]
    },
    {
     "name": "stdout",
     "output_type": "stream",
     "text": [
      "epoch: 4, pass acc: 0.833984, current acc: 0.863961\n"
     ]
    },
    {
     "name": "stderr",
     "output_type": "stream",
     "text": [
      "\r",
      "train minibatch loop:   0%|          | 0/736 [00:00<?, ?it/s]"
     ]
    },
    {
     "name": "stdout",
     "output_type": "stream",
     "text": [
      "epoch: 4, training loss: 0.290053, training acc: 0.892238, valid loss: 0.405204, valid acc: 0.863961\n",
      "\n"
     ]
    },
    {
     "name": "stderr",
     "output_type": "stream",
     "text": [
      "train minibatch loop: 100%|██████████| 736/736 [06:14<00:00,  1.96it/s]\n",
      "test minibatch loop: 100%|██████████| 368/368 [01:11<00:00,  5.13it/s]\n"
     ]
    },
    {
     "name": "stdout",
     "output_type": "stream",
     "text": [
      "epoch: 5, pass acc: 0.863961, current acc: 0.870245\n"
     ]
    },
    {
     "name": "stderr",
     "output_type": "stream",
     "text": [
      "\r",
      "train minibatch loop:   0%|          | 0/736 [00:00<?, ?it/s]"
     ]
    },
    {
     "name": "stdout",
     "output_type": "stream",
     "text": [
      "epoch: 5, training loss: 0.261174, training acc: 0.904127, valid loss: 0.390722, valid acc: 0.870245\n",
      "\n"
     ]
    },
    {
     "name": "stderr",
     "output_type": "stream",
     "text": [
      "train minibatch loop: 100%|██████████| 736/736 [06:14<00:00,  1.96it/s]\n",
      "test minibatch loop: 100%|██████████| 368/368 [01:11<00:00,  5.13it/s]\n",
      "train minibatch loop:   0%|          | 0/736 [00:00<?, ?it/s]"
     ]
    },
    {
     "name": "stdout",
     "output_type": "stream",
     "text": [
      "epoch: 6, training loss: 0.216343, training acc: 0.920771, valid loss: 0.413970, valid acc: 0.870075\n",
      "\n"
     ]
    },
    {
     "name": "stderr",
     "output_type": "stream",
     "text": [
      "train minibatch loop: 100%|██████████| 736/736 [06:14<00:00,  1.96it/s]\n",
      "test minibatch loop: 100%|██████████| 368/368 [01:11<00:00,  5.13it/s]\n"
     ]
    },
    {
     "name": "stdout",
     "output_type": "stream",
     "text": [
      "epoch: 7, pass acc: 0.870245, current acc: 0.876104\n"
     ]
    },
    {
     "name": "stderr",
     "output_type": "stream",
     "text": [
      "\r",
      "train minibatch loop:   0%|          | 0/736 [00:00<?, ?it/s]"
     ]
    },
    {
     "name": "stdout",
     "output_type": "stream",
     "text": [
      "epoch: 7, training loss: 0.191239, training acc: 0.929730, valid loss: 0.376530, valid acc: 0.876104\n",
      "\n"
     ]
    },
    {
     "name": "stderr",
     "output_type": "stream",
     "text": [
      "train minibatch loop: 100%|██████████| 736/736 [06:14<00:00,  1.96it/s]\n",
      "test minibatch loop: 100%|██████████| 368/368 [01:11<00:00,  5.13it/s]\n",
      "train minibatch loop:   0%|          | 0/736 [00:00<?, ?it/s]"
     ]
    },
    {
     "name": "stdout",
     "output_type": "stream",
     "text": [
      "epoch: 8, training loss: 0.167524, training acc: 0.940005, valid loss: 0.393084, valid acc: 0.875764\n",
      "\n"
     ]
    },
    {
     "name": "stderr",
     "output_type": "stream",
     "text": [
      "train minibatch loop: 100%|██████████| 736/736 [06:14<00:00,  1.96it/s]\n",
      "test minibatch loop: 100%|██████████| 368/368 [01:11<00:00,  5.14it/s]\n"
     ]
    },
    {
     "name": "stdout",
     "output_type": "stream",
     "text": [
      "epoch: 9, pass acc: 0.876104, current acc: 0.877887\n"
     ]
    },
    {
     "name": "stderr",
     "output_type": "stream",
     "text": [
      "\r",
      "train minibatch loop:   0%|          | 0/736 [00:00<?, ?it/s]"
     ]
    },
    {
     "name": "stdout",
     "output_type": "stream",
     "text": [
      "epoch: 9, training loss: 0.153104, training acc: 0.945270, valid loss: 0.401347, valid acc: 0.877887\n",
      "\n"
     ]
    },
    {
     "name": "stderr",
     "output_type": "stream",
     "text": [
      "train minibatch loop: 100%|██████████| 736/736 [06:14<00:00,  1.96it/s]\n",
      "test minibatch loop: 100%|██████████| 368/368 [01:11<00:00,  5.12it/s]\n",
      "train minibatch loop:   0%|          | 0/736 [00:00<?, ?it/s]"
     ]
    },
    {
     "name": "stdout",
     "output_type": "stream",
     "text": [
      "epoch: 10, training loss: 0.141396, training acc: 0.948624, valid loss: 0.445045, valid acc: 0.867782\n",
      "\n"
     ]
    },
    {
     "name": "stderr",
     "output_type": "stream",
     "text": [
      "train minibatch loop: 100%|██████████| 736/736 [06:15<00:00,  1.96it/s]\n",
      "test minibatch loop: 100%|██████████| 368/368 [01:11<00:00,  5.14it/s]\n"
     ]
    },
    {
     "name": "stdout",
     "output_type": "stream",
     "text": [
      "epoch: 11, pass acc: 0.877887, current acc: 0.882218\n"
     ]
    },
    {
     "name": "stderr",
     "output_type": "stream",
     "text": [
      "\r",
      "train minibatch loop:   0%|          | 0/736 [00:00<?, ?it/s]"
     ]
    },
    {
     "name": "stdout",
     "output_type": "stream",
     "text": [
      "epoch: 11, training loss: 0.133188, training acc: 0.951596, valid loss: 0.392937, valid acc: 0.882218\n",
      "\n"
     ]
    },
    {
     "name": "stderr",
     "output_type": "stream",
     "text": [
      "train minibatch loop: 100%|██████████| 736/736 [06:14<00:00,  1.97it/s]\n",
      "test minibatch loop: 100%|██████████| 368/368 [01:11<00:00,  5.14it/s]\n"
     ]
    },
    {
     "name": "stdout",
     "output_type": "stream",
     "text": [
      "epoch: 12, pass acc: 0.882218, current acc: 0.887398\n"
     ]
    },
    {
     "name": "stderr",
     "output_type": "stream",
     "text": [
      "\r",
      "train minibatch loop:   0%|          | 0/736 [00:00<?, ?it/s]"
     ]
    },
    {
     "name": "stdout",
     "output_type": "stream",
     "text": [
      "epoch: 12, training loss: 0.109172, training acc: 0.962169, valid loss: 0.423014, valid acc: 0.887398\n",
      "\n"
     ]
    },
    {
     "name": "stderr",
     "output_type": "stream",
     "text": [
      "train minibatch loop: 100%|██████████| 736/736 [06:15<00:00,  1.96it/s]\n",
      "test minibatch loop: 100%|██████████| 368/368 [01:11<00:00,  5.12it/s]\n"
     ]
    },
    {
     "name": "stdout",
     "output_type": "stream",
     "text": [
      "epoch: 13, pass acc: 0.887398, current acc: 0.890200\n"
     ]
    },
    {
     "name": "stderr",
     "output_type": "stream",
     "text": [
      "\r",
      "train minibatch loop:   0%|          | 0/736 [00:00<?, ?it/s]"
     ]
    },
    {
     "name": "stdout",
     "output_type": "stream",
     "text": [
      "epoch: 13, training loss: 0.110351, training acc: 0.960980, valid loss: 0.395114, valid acc: 0.890200\n",
      "\n"
     ]
    },
    {
     "name": "stderr",
     "output_type": "stream",
     "text": [
      "train minibatch loop: 100%|██████████| 736/736 [06:14<00:00,  1.96it/s]\n",
      "test minibatch loop: 100%|██████████| 368/368 [01:11<00:00,  5.12it/s]\n",
      "train minibatch loop:   0%|          | 0/736 [00:00<?, ?it/s]"
     ]
    },
    {
     "name": "stdout",
     "output_type": "stream",
     "text": [
      "epoch: 14, training loss: 0.093038, training acc: 0.968665, valid loss: 0.420342, valid acc: 0.885785\n",
      "\n"
     ]
    },
    {
     "name": "stderr",
     "output_type": "stream",
     "text": [
      "train minibatch loop: 100%|██████████| 736/736 [06:15<00:00,  1.96it/s]\n",
      "test minibatch loop: 100%|██████████| 368/368 [01:11<00:00,  5.13it/s]\n",
      "train minibatch loop:   0%|          | 0/736 [00:00<?, ?it/s]"
     ]
    },
    {
     "name": "stdout",
     "output_type": "stream",
     "text": [
      "epoch: 15, training loss: 0.094112, training acc: 0.967052, valid loss: 0.431546, valid acc: 0.887228\n",
      "\n"
     ]
    },
    {
     "name": "stderr",
     "output_type": "stream",
     "text": [
      "train minibatch loop: 100%|██████████| 736/736 [06:14<00:00,  1.96it/s]\n",
      "test minibatch loop: 100%|██████████| 368/368 [01:11<00:00,  5.12it/s]\n"
     ]
    },
    {
     "name": "stdout",
     "output_type": "stream",
     "text": [
      "epoch: 16, pass acc: 0.890200, current acc: 0.892493\n"
     ]
    },
    {
     "name": "stderr",
     "output_type": "stream",
     "text": [
      "\r",
      "train minibatch loop:   0%|          | 0/736 [00:00<?, ?it/s]"
     ]
    },
    {
     "name": "stdout",
     "output_type": "stream",
     "text": [
      "epoch: 16, training loss: 0.079837, training acc: 0.971467, valid loss: 0.413315, valid acc: 0.892493\n",
      "\n"
     ]
    },
    {
     "name": "stderr",
     "output_type": "stream",
     "text": [
      "train minibatch loop: 100%|██████████| 736/736 [06:14<00:00,  1.96it/s]\n",
      "test minibatch loop: 100%|██████████| 368/368 [01:11<00:00,  5.13it/s]\n"
     ]
    },
    {
     "name": "stdout",
     "output_type": "stream",
     "text": [
      "epoch: 17, pass acc: 0.892493, current acc: 0.896060\n"
     ]
    },
    {
     "name": "stderr",
     "output_type": "stream",
     "text": [
      "\r",
      "train minibatch loop:   0%|          | 0/736 [00:00<?, ?it/s]"
     ]
    },
    {
     "name": "stdout",
     "output_type": "stream",
     "text": [
      "epoch: 17, training loss: 0.083494, training acc: 0.972274, valid loss: 0.414193, valid acc: 0.896060\n",
      "\n"
     ]
    },
    {
     "name": "stderr",
     "output_type": "stream",
     "text": [
      "train minibatch loop: 100%|██████████| 736/736 [06:14<00:00,  1.96it/s]\n",
      "test minibatch loop: 100%|██████████| 368/368 [01:11<00:00,  5.13it/s]\n",
      "train minibatch loop:   0%|          | 0/736 [00:00<?, ?it/s]"
     ]
    },
    {
     "name": "stdout",
     "output_type": "stream",
     "text": [
      "epoch: 18, training loss: 0.078822, training acc: 0.973845, valid loss: 0.423279, valid acc: 0.895211\n",
      "\n"
     ]
    },
    {
     "name": "stderr",
     "output_type": "stream",
     "text": [
      "train minibatch loop: 100%|██████████| 736/736 [06:27<00:00,  1.90it/s]\n",
      "test minibatch loop: 100%|██████████| 368/368 [01:37<00:00,  3.78it/s]\n",
      "train minibatch loop:   0%|          | 0/736 [00:00<?, ?it/s]"
     ]
    },
    {
     "name": "stdout",
     "output_type": "stream",
     "text": [
      "epoch: 19, training loss: 0.073605, training acc: 0.974907, valid loss: 0.422845, valid acc: 0.890285\n",
      "\n"
     ]
    },
    {
     "name": "stderr",
     "output_type": "stream",
     "text": [
      "train minibatch loop: 100%|██████████| 736/736 [06:27<00:00,  1.90it/s]\n",
      "test minibatch loop: 100%|██████████| 368/368 [01:11<00:00,  5.13it/s]\n",
      "train minibatch loop:   0%|          | 0/736 [00:00<?, ?it/s]"
     ]
    },
    {
     "name": "stdout",
     "output_type": "stream",
     "text": [
      "epoch: 20, training loss: 0.061305, training acc: 0.978940, valid loss: 0.441287, valid acc: 0.892493\n",
      "\n"
     ]
    },
    {
     "name": "stderr",
     "output_type": "stream",
     "text": [
      "train minibatch loop: 100%|██████████| 736/736 [06:14<00:00,  1.97it/s]\n",
      "test minibatch loop: 100%|██████████| 368/368 [01:11<00:00,  5.13it/s]\n",
      "train minibatch loop:   0%|          | 0/736 [00:00<?, ?it/s]"
     ]
    },
    {
     "name": "stdout",
     "output_type": "stream",
     "text": [
      "epoch: 21, training loss: 0.065640, training acc: 0.977582, valid loss: 0.452641, valid acc: 0.891814\n",
      "\n"
     ]
    },
    {
     "name": "stderr",
     "output_type": "stream",
     "text": [
      "train minibatch loop: 100%|██████████| 736/736 [06:14<00:00,  1.96it/s]\n",
      "test minibatch loop: 100%|██████████| 368/368 [01:11<00:00,  5.13it/s]"
     ]
    },
    {
     "name": "stdout",
     "output_type": "stream",
     "text": [
      "epoch: 22, training loss: 0.059726, training acc: 0.980002, valid loss: 0.400922, valid acc: 0.895550\n",
      "\n",
      "break epoch:23\n",
      "\n",
      "--------------- End cross validation 0 -----------------\n",
      "\n",
      "\n",
      "--------------- Start cross validation 1 ---------------\n",
      "INFO:tensorflow:Restoring parameters from huseinhouse/emotion-checkpoint-mobilenet.ckpt\n"
     ]
    },
    {
     "name": "stderr",
     "output_type": "stream",
     "text": [
      "\n",
      "train minibatch loop: 100%|██████████| 736/736 [06:14<00:00,  1.96it/s]\n",
      "test minibatch loop: 100%|██████████| 368/368 [01:11<00:00,  5.13it/s]\n"
     ]
    },
    {
     "name": "stdout",
     "output_type": "stream",
     "text": [
      "epoch: 0, pass acc: 0.000000, current acc: 0.966797\n"
     ]
    },
    {
     "name": "stderr",
     "output_type": "stream",
     "text": [
      "\r",
      "train minibatch loop:   0%|          | 0/736 [00:00<?, ?it/s]"
     ]
    },
    {
     "name": "stdout",
     "output_type": "stream",
     "text": [
      "epoch: 0, training loss: 0.189201, training acc: 0.934400, valid loss: 0.092921, valid acc: 0.966797\n",
      "\n"
     ]
    },
    {
     "name": "stderr",
     "output_type": "stream",
     "text": [
      "train minibatch loop: 100%|██████████| 736/736 [06:14<00:00,  1.96it/s]\n",
      "test minibatch loop: 100%|██████████| 368/368 [01:11<00:00,  5.12it/s]\n",
      "train minibatch loop:   0%|          | 0/736 [00:00<?, ?it/s]"
     ]
    },
    {
     "name": "stdout",
     "output_type": "stream",
     "text": [
      "epoch: 1, training loss: 0.126364, training acc: 0.955927, valid loss: 0.117291, valid acc: 0.958984\n",
      "\n"
     ]
    },
    {
     "name": "stderr",
     "output_type": "stream",
     "text": [
      "train minibatch loop: 100%|██████████| 736/736 [06:15<00:00,  1.96it/s]\n",
      "test minibatch loop: 100%|██████████| 368/368 [01:11<00:00,  5.12it/s]\n",
      "train minibatch loop:   0%|          | 0/736 [00:00<?, ?it/s]"
     ]
    },
    {
     "name": "stdout",
     "output_type": "stream",
     "text": [
      "epoch: 2, training loss: 0.108263, training acc: 0.961999, valid loss: 0.165999, valid acc: 0.950323\n",
      "\n"
     ]
    },
    {
     "name": "stderr",
     "output_type": "stream",
     "text": [
      "train minibatch loop: 100%|██████████| 736/736 [06:15<00:00,  1.96it/s]\n",
      "test minibatch loop: 100%|██████████| 368/368 [01:11<00:00,  5.13it/s]\n",
      "train minibatch loop:   0%|          | 0/736 [00:00<?, ?it/s]"
     ]
    },
    {
     "name": "stdout",
     "output_type": "stream",
     "text": [
      "epoch: 3, training loss: 0.088117, training acc: 0.969175, valid loss: 0.150448, valid acc: 0.951002\n",
      "\n"
     ]
    },
    {
     "name": "stderr",
     "output_type": "stream",
     "text": [
      "train minibatch loop: 100%|██████████| 736/736 [06:39<00:00,  1.84it/s]\n",
      "test minibatch loop: 100%|██████████| 368/368 [01:24<00:00,  4.36it/s]\n",
      "train minibatch loop:   0%|          | 0/736 [00:00<?, ?it/s]"
     ]
    },
    {
     "name": "stdout",
     "output_type": "stream",
     "text": [
      "epoch: 4, training loss: 0.078544, training acc: 0.972189, valid loss: 0.156449, valid acc: 0.951596\n",
      "\n"
     ]
    },
    {
     "name": "stderr",
     "output_type": "stream",
     "text": [
      "train minibatch loop: 100%|██████████| 736/736 [07:17<00:00,  1.68it/s]\n",
      "test minibatch loop: 100%|██████████| 368/368 [01:11<00:00,  5.14it/s]"
     ]
    },
    {
     "name": "stdout",
     "output_type": "stream",
     "text": [
      "epoch: 5, training loss: 0.072740, training acc: 0.974949, valid loss: 0.161969, valid acc: 0.948370\n",
      "\n",
      "break epoch:6\n",
      "\n",
      "--------------- End cross validation 1 -----------------\n",
      "\n",
      "\n",
      "--------------- Start cross validation 2 ---------------\n",
      "INFO:tensorflow:Restoring parameters from huseinhouse/emotion-checkpoint-mobilenet.ckpt\n"
     ]
    },
    {
     "name": "stderr",
     "output_type": "stream",
     "text": [
      "\n",
      "train minibatch loop: 100%|██████████| 736/736 [06:26<00:00,  1.90it/s]\n",
      "test minibatch loop: 100%|██████████| 368/368 [01:25<00:00,  4.31it/s]\n"
     ]
    },
    {
     "name": "stdout",
     "output_type": "stream",
     "text": [
      "epoch: 0, pass acc: 0.000000, current acc: 0.961107\n"
     ]
    },
    {
     "name": "stderr",
     "output_type": "stream",
     "text": [
      "\r",
      "train minibatch loop:   0%|          | 0/736 [00:00<?, ?it/s]"
     ]
    },
    {
     "name": "stdout",
     "output_type": "stream",
     "text": [
      "epoch: 0, training loss: 0.149089, training acc: 0.947351, valid loss: 0.113778, valid acc: 0.961107\n",
      "\n"
     ]
    },
    {
     "name": "stderr",
     "output_type": "stream",
     "text": [
      "train minibatch loop: 100%|██████████| 736/736 [07:02<00:00,  1.74it/s]\n",
      "test minibatch loop: 100%|██████████| 368/368 [01:12<00:00,  5.08it/s]\n",
      "train minibatch loop:   0%|          | 0/736 [00:00<?, ?it/s]"
     ]
    },
    {
     "name": "stdout",
     "output_type": "stream",
     "text": [
      "epoch: 1, training loss: 0.109110, training acc: 0.960895, valid loss: 0.114347, valid acc: 0.959409\n",
      "\n"
     ]
    },
    {
     "name": "stderr",
     "output_type": "stream",
     "text": [
      "train minibatch loop: 100%|██████████| 736/736 [06:14<00:00,  1.96it/s]\n",
      "test minibatch loop: 100%|██████████| 368/368 [01:11<00:00,  5.12it/s]\n",
      "train minibatch loop:   0%|          | 0/736 [00:00<?, ?it/s]"
     ]
    },
    {
     "name": "stdout",
     "output_type": "stream",
     "text": [
      "epoch: 2, training loss: 0.099432, training acc: 0.964589, valid loss: 0.156413, valid acc: 0.948454\n",
      "\n"
     ]
    },
    {
     "name": "stderr",
     "output_type": "stream",
     "text": [
      "train minibatch loop: 100%|██████████| 736/736 [06:15<00:00,  1.96it/s]\n",
      "test minibatch loop: 100%|██████████| 368/368 [01:12<00:00,  5.08it/s]\n",
      "train minibatch loop:   0%|          | 0/736 [00:00<?, ?it/s]"
     ]
    },
    {
     "name": "stdout",
     "output_type": "stream",
     "text": [
      "epoch: 3, training loss: 0.084944, training acc: 0.970321, valid loss: 0.148349, valid acc: 0.950153\n",
      "\n"
     ]
    },
    {
     "name": "stderr",
     "output_type": "stream",
     "text": [
      "train minibatch loop: 100%|██████████| 736/736 [06:15<00:00,  1.96it/s]\n",
      "test minibatch loop: 100%|██████████| 368/368 [01:12<00:00,  5.10it/s]\n",
      "train minibatch loop:   0%|          | 0/736 [00:00<?, ?it/s]"
     ]
    },
    {
     "name": "stdout",
     "output_type": "stream",
     "text": [
      "epoch: 4, training loss: 0.081592, training acc: 0.970746, valid loss: 0.142782, valid acc: 0.951257\n",
      "\n"
     ]
    },
    {
     "name": "stderr",
     "output_type": "stream",
     "text": [
      "train minibatch loop: 100%|██████████| 736/736 [06:15<00:00,  1.96it/s]\n",
      "test minibatch loop: 100%|██████████| 368/368 [01:11<00:00,  5.11it/s]"
     ]
    },
    {
     "name": "stdout",
     "output_type": "stream",
     "text": [
      "epoch: 5, training loss: 0.062490, training acc: 0.978218, valid loss: 0.198886, valid acc: 0.941151\n",
      "\n",
      "break epoch:6\n",
      "\n",
      "--------------- End cross validation 2 -----------------\n",
      "\n",
      "\n"
     ]
    },
    {
     "name": "stderr",
     "output_type": "stream",
     "text": [
      "\n"
     ]
    }
   ],
   "source": [
    "for no, indexes in enumerate(kf.split(img_lists)):\n",
    "    print('--------------- Start cross validation %d ---------------'%(no))\n",
    "    saver.restore(sess, \"huseinhouse/emotion-checkpoint-mobilenet.ckpt\")\n",
    "    \n",
    "    train_X = np.array(img_lists)[indexes[0]]\n",
    "    train_Y = img_Y[indexes[0]]\n",
    "    \n",
    "    test_X = np.array(img_lists)[indexes[1]]\n",
    "    test_Y = img_Y[indexes[1]]\n",
    "    \n",
    "    EARLY_STOPPING, CURRENT_CHECKPOINT, CURRENT_ACC, EPOCH = 5, 0, 0, 0\n",
    "    while True:\n",
    "        if CURRENT_CHECKPOINT == EARLY_STOPPING:\n",
    "            print('break epoch:%d\\n'%(EPOCH))\n",
    "            break\n",
    "        \n",
    "        train_loss, train_acc, test_loss, test_acc = 0, 0, 0, 0\n",
    "        for k in tqdm(range(0, (len(train_X) // batch_size) * batch_size, batch_size),\n",
    "                      desc='train minibatch loop'):\n",
    "            batch_x = np.zeros((batch_size, 224,224,1))\n",
    "            for n in range(batch_size):\n",
    "                img = imresize(imread(train_X[k+n]), (224,224))\n",
    "                batch_x[n,:,:,0] = img\n",
    "            summary,loss, acc, _ = sess.run([merged,cost,emotion_accuracy,optimizer],\n",
    "                                    feed_dict={X:batch_x,Y:train_Y[k:k+batch_size]})\n",
    "            train_loss += loss\n",
    "            train_acc += acc\n",
    "            writer.add_summary(summary, global_step=sess.run(global_step))\n",
    "        \n",
    "        for k in tqdm(range(0, (len(test_X) // batch_size) * batch_size, batch_size),\n",
    "                      desc='test minibatch loop'):\n",
    "            batch_x = np.zeros((batch_size, 224,224,1))\n",
    "            for n in range(batch_size):\n",
    "                img = imresize(imread(test_X[k+n]), (224,224))\n",
    "                batch_x[n,:,:,0] = img\n",
    "            loss, acc = sess.run([cost,emotion_accuracy], \n",
    "                                 feed_dict={X:batch_x,Y:test_Y[k:k+batch_size]})\n",
    "            test_loss += loss\n",
    "            test_acc += acc\n",
    "        \n",
    "        train_loss /= (len(train_X) // batch_size)\n",
    "        train_acc /= (len(train_X) // batch_size)\n",
    "        test_loss /= (len(test_X) // batch_size)\n",
    "        test_acc /= (len(test_X) // batch_size)\n",
    "        \n",
    "        if test_acc > CURRENT_ACC:\n",
    "            print('epoch: %d, pass acc: %f, current acc: %f'%(EPOCH,CURRENT_ACC, test_acc))\n",
    "            CURRENT_ACC = test_acc\n",
    "            CURRENT_CHECKPOINT = 0\n",
    "            saver.save(sess, \"huseinhouse/emotion-checkpoint-mobilenet.ckpt\")\n",
    "        else:\n",
    "            CURRENT_CHECKPOINT += 1\n",
    "            \n",
    "        print('epoch: %d, training loss: %f, training acc: %f, valid loss: %f, valid acc: %f\\n'%(EPOCH,train_loss,\n",
    "                                                                                          train_acc,test_loss,\n",
    "                                                                                          test_acc))\n",
    "        EPOCH += 1\n",
    "    print('--------------- End cross validation %d -----------------\\n\\n'%(no))"
   ]
  }
 ],
 "metadata": {
  "kernelspec": {
   "display_name": "Python 3",
   "language": "python",
   "name": "python3"
  },
  "language_info": {
   "codemirror_mode": {
    "name": "ipython",
    "version": 3
   },
   "file_extension": ".py",
   "mimetype": "text/x-python",
   "name": "python",
   "nbconvert_exporter": "python",
   "pygments_lexer": "ipython3",
   "version": "3.5.2"
  }
 },
 "nbformat": 4,
 "nbformat_minor": 2
}
